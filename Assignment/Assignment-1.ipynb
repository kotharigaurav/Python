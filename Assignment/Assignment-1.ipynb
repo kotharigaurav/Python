{
 "cells": [
  {
   "cell_type": "markdown",
   "metadata": {},
   "source": [
    "### 1. Which of the following are operators, and which are values?\n",
    "\n",
    "a) \t*\n",
    "\n",
    "b) \t'hello'\n",
    "\n",
    "c) \t-88.8\n",
    "\n",
    "d) \t-\n",
    "\n",
    "e) \t/\n",
    "\n",
    "f) \t+\n",
    "\n",
    "g) \t5"
   ]
  },
  {
   "cell_type": "markdown",
   "metadata": {},
   "source": [
    "### Answer:-\n",
    "#### Operators :- (a),(d),(e),(f)\n",
    "#### Values :- (b),(c),(g)"
   ]
  },
  {
   "cell_type": "markdown",
   "metadata": {},
   "source": [
    "### 2. Which of the following is a variable, and which is a string?\n",
    "\n",
    "a)\tspam\n",
    "\n",
    "b)\t'spam'"
   ]
  },
  {
   "cell_type": "markdown",
   "metadata": {},
   "source": [
    "### Answer:-\n",
    "#### variable :- (a)\n",
    "#### string :- (b)"
   ]
  },
  {
   "cell_type": "code",
   "execution_count": 3,
   "metadata": {},
   "outputs": [],
   "source": [
    "spam = 'spam'"
   ]
  },
  {
   "cell_type": "code",
   "execution_count": 4,
   "metadata": {},
   "outputs": [
    {
     "data": {
      "text/plain": [
       "'spam'"
      ]
     },
     "execution_count": 4,
     "metadata": {},
     "output_type": "execute_result"
    }
   ],
   "source": [
    "spam"
   ]
  },
  {
   "cell_type": "markdown",
   "metadata": {},
   "source": [
    "### 3. Name three data types.\n",
    "#### Answer:-\n",
    "<ol>\n",
    "    <li>Number</li>\n",
    "        <ol>\n",
    "            <li>int</li>\n",
    "            <li>float</li>\n",
    "            <li>complex</li>\n",
    "        </ol>\n",
    "    <li>String</li>\n",
    "    <li>List</li>\n",
    "    <li>Tuple</li>\n",
    "    <li>Dictionary</li>\n",
    "    <li>Set</li>\n",
    "        <ul>\n",
    "            <li>frozenset</li>\n",
    "        </ul>\n",
    "    <li>Boolean</li>\n",
    "    <li>None Type</li>\n",
    "</ol>"
   ]
  },
  {
   "cell_type": "markdown",
   "metadata": {},
   "source": [
    "### 4. What is an expression made up of? What do all expressions do?\n",
    "### Answer:-\n",
    "Expressions:- 2+3*(8%3-7)//a*b\n",
    "\n",
    "Statement:- x = 2+3*(8%3-7)//a*b"
   ]
  },
  {
   "cell_type": "markdown",
   "metadata": {},
   "source": [
    "### 5. This chapter introduced assignment statements, like spam = 10. What is the difference between an expression and a statement?\n",
    "#### Answer:-\n",
    "An expression is basically collection of operators and operands and a statement is when we use a container to store a value of a expression."
   ]
  },
  {
   "cell_type": "markdown",
   "metadata": {},
   "source": [
    "### 6. What does the variable bacon contain after the following code runs?\n",
    "\n",
    "#### a)\tbacon = 20\n",
    "#### b)\tbacon + 1\n",
    "### Answer:-\n",
    "bacon = 20\n"
   ]
  },
  {
   "cell_type": "code",
   "execution_count": 5,
   "metadata": {},
   "outputs": [
    {
     "name": "stdout",
     "output_type": "stream",
     "text": [
      "20\n"
     ]
    }
   ],
   "source": [
    "bacon = 20\n",
    "bacon+1\n",
    "print(bacon)"
   ]
  },
  {
   "cell_type": "markdown",
   "metadata": {},
   "source": [
    "### 7. What should the following two expressions evaluate to?\n",
    "\n",
    "#### a)\t'spam' + 'spamspam'\n",
    "#### b)\t'spam' * 3\n",
    "### Answer:-\n",
    "(a) 'spamspamspam'\n",
    "\n",
    "(b) 'spamspamspam'"
   ]
  },
  {
   "cell_type": "code",
   "execution_count": 8,
   "metadata": {},
   "outputs": [
    {
     "name": "stdout",
     "output_type": "stream",
     "text": [
      "spamspamspam\n"
     ]
    }
   ],
   "source": [
    "'spam'+'spamspam'"
   ]
  },
  {
   "cell_type": "code",
   "execution_count": 7,
   "metadata": {},
   "outputs": [
    {
     "data": {
      "text/plain": [
       "'spamspamspam'"
      ]
     },
     "execution_count": 7,
     "metadata": {},
     "output_type": "execute_result"
    }
   ],
   "source": [
    "'spam'*3"
   ]
  },
  {
   "cell_type": "markdown",
   "metadata": {},
   "source": [
    "### 8. Why is eggs a valid variable name while 100 is invalid?\n",
    "### Answer:-\n",
    "Because varible name should start with alphabets or underscore only. varible name should not start with any number or variable name should not contain special symbol also.\n",
    "\n",
    "so, eggs only contains alphabets so eggs is a valid varible name but 100 start with 1 that is a number or as we know variable name should not start with number. so 100 is invalid varible name."
   ]
  },
  {
   "cell_type": "markdown",
   "metadata": {},
   "source": [
    "### 9. What three functions can be used to get the integer, floating-point number, or string version of a value?\n",
    "### Answer:-\n",
    "1. int() ---> for integer value\n",
    "2. float() ---> for float value\n",
    "3. str() ---> for string value"
   ]
  },
  {
   "cell_type": "code",
   "execution_count": 9,
   "metadata": {},
   "outputs": [],
   "source": [
    "a = 5"
   ]
  },
  {
   "cell_type": "code",
   "execution_count": 10,
   "metadata": {},
   "outputs": [
    {
     "data": {
      "text/plain": [
       "5"
      ]
     },
     "execution_count": 10,
     "metadata": {},
     "output_type": "execute_result"
    }
   ],
   "source": [
    "int(a)"
   ]
  },
  {
   "cell_type": "code",
   "execution_count": 11,
   "metadata": {},
   "outputs": [
    {
     "data": {
      "text/plain": [
       "5.0"
      ]
     },
     "execution_count": 11,
     "metadata": {},
     "output_type": "execute_result"
    }
   ],
   "source": [
    "float(a)"
   ]
  },
  {
   "cell_type": "code",
   "execution_count": 14,
   "metadata": {},
   "outputs": [
    {
     "data": {
      "text/plain": [
       "'5'"
      ]
     },
     "execution_count": 14,
     "metadata": {},
     "output_type": "execute_result"
    }
   ],
   "source": [
    "str(a)"
   ]
  },
  {
   "cell_type": "markdown",
   "metadata": {},
   "source": [
    "### 10. Why does this expression cause an error? How can you fix it?\n",
    "### 'I have eaten ' + 99 + ' burritos.'\n",
    "### Answer:-\n",
    "this expression gives an error because in this we add string with integer that is not possible. so we convert 99 in string by adding quotes around them or use str() "
   ]
  }
 ],
 "metadata": {
  "kernelspec": {
   "display_name": "Python 3",
   "language": "python",
   "name": "python3"
  },
  "language_info": {
   "codemirror_mode": {
    "name": "ipython",
    "version": 3
   },
   "file_extension": ".py",
   "mimetype": "text/x-python",
   "name": "python",
   "nbconvert_exporter": "python",
   "pygments_lexer": "ipython3",
   "version": "3.6.5"
  }
 },
 "nbformat": 4,
 "nbformat_minor": 2
}
