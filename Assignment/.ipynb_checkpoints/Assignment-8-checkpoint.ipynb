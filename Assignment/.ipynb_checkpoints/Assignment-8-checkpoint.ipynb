{
 "cells": [
  {
   "cell_type": "markdown",
   "metadata": {},
   "source": [
    "### Python Program to Print Hello world!"
   ]
  },
  {
   "cell_type": "code",
   "execution_count": 1,
   "metadata": {},
   "outputs": [
    {
     "name": "stdout",
     "output_type": "stream",
     "text": [
      "Hello World\n"
     ]
    }
   ],
   "source": [
    "print(\"Hello World\")"
   ]
  },
  {
   "cell_type": "markdown",
   "metadata": {},
   "source": [
    "### Python Program to Add Two Numbers"
   ]
  },
  {
   "cell_type": "code",
   "execution_count": 3,
   "metadata": {},
   "outputs": [
    {
     "name": "stdout",
     "output_type": "stream",
     "text": [
      "enter two numbers seprate by comma5,4\n",
      "addition of and b is 5 + 4 = 9\n"
     ]
    }
   ],
   "source": [
    "a,b = map(int,input(\"enter two numbers seprate by comma\").split(\",\"))\n",
    "c = a+b\n",
    "print(f\"addition of and b is {a} + {b} = {c}\")"
   ]
  },
  {
   "cell_type": "markdown",
   "metadata": {},
   "source": [
    "### Python Program to Find the Square Root"
   ]
  },
  {
   "cell_type": "code",
   "execution_count": 5,
   "metadata": {},
   "outputs": [
    {
     "name": "stdout",
     "output_type": "stream",
     "text": [
      "enter a number5\n",
      "2.23606797749979\n"
     ]
    }
   ],
   "source": [
    "from math import sqrt\n",
    "num = int(input(\"enter a number\"))\n",
    "s = sqrt(num)\n",
    "print(s)"
   ]
  },
  {
   "cell_type": "markdown",
   "metadata": {},
   "source": [
    "### Python Program to Calculate the Area of a Triangle"
   ]
  },
  {
   "cell_type": "code",
   "execution_count": 7,
   "metadata": {},
   "outputs": [
    {
     "name": "stdout",
     "output_type": "stream",
     "text": [
      "enter base of triangle3\n",
      "enter height of triangle4\n",
      "area of triangle is =  6.0\n"
     ]
    }
   ],
   "source": [
    "base = int(input(\"enter base of triangle\"))\n",
    "height = int(input(\"enter height of triangle\"))\n",
    "print(\"area of triangle is = \",(1/2*base*height))"
   ]
  },
  {
   "cell_type": "markdown",
   "metadata": {},
   "source": [
    "### Python Program to Solve Quadratic Equation"
   ]
  },
  {
   "cell_type": "code",
   "execution_count": 14,
   "metadata": {},
   "outputs": [
    {
     "name": "stdout",
     "output_type": "stream",
     "text": [
      "enter the cofficient of square term6\n",
      "enter the cofficient of x term11\n",
      "enter the constant term-35\n",
      "roots of given quadratic equation is 1.6666666666666667 and -3.5\n"
     ]
    }
   ],
   "source": [
    "a = int(input(\"enter the cofficient of square term\"))\n",
    "b = int(input(\"enter the cofficient of x term\"))\n",
    "c = int(input(\"enter the constant term\"))\n",
    "ans1 = (-b+sqrt(b**2-4*a*c))/(2*a)\n",
    "ans2 = (-b-sqrt(b**2-4*a*c))/(2*a)\n",
    "print(f\"roots of given quadratic equation is {ans1} and {ans2}\")"
   ]
  },
  {
   "cell_type": "markdown",
   "metadata": {},
   "source": [
    "### Python Program to Swap Two Variables"
   ]
  },
  {
   "cell_type": "code",
   "execution_count": 17,
   "metadata": {},
   "outputs": [
    {
     "name": "stdout",
     "output_type": "stream",
     "text": [
      "enter two value4,5\n",
      "5 4\n"
     ]
    }
   ],
   "source": [
    "a,b = map(int,input(\"enter two value\").split(\",\"))\n",
    "a = a+b\n",
    "b = a-b\n",
    "a = a-b\n",
    "print(a,b)"
   ]
  },
  {
   "cell_type": "code",
   "execution_count": 18,
   "metadata": {},
   "outputs": [],
   "source": [
    "a = 4\n",
    "b = 5\n",
    "a,b = b,a"
   ]
  },
  {
   "cell_type": "code",
   "execution_count": 19,
   "metadata": {},
   "outputs": [
    {
     "name": "stdout",
     "output_type": "stream",
     "text": [
      "5 4\n"
     ]
    }
   ],
   "source": [
    "print(a,b)"
   ]
  },
  {
   "cell_type": "markdown",
   "metadata": {},
   "source": [
    "### Python Program to Generate a Random Number"
   ]
  },
  {
   "cell_type": "code",
   "execution_count": 21,
   "metadata": {},
   "outputs": [],
   "source": [
    "from random import randint\n",
    "a = [randint(1,10) for var in range (5)]"
   ]
  },
  {
   "cell_type": "code",
   "execution_count": 22,
   "metadata": {},
   "outputs": [
    {
     "data": {
      "text/plain": [
       "[8, 8, 5, 7, 5]"
      ]
     },
     "execution_count": 22,
     "metadata": {},
     "output_type": "execute_result"
    }
   ],
   "source": [
    "a"
   ]
  },
  {
   "cell_type": "code",
   "execution_count": 23,
   "metadata": {},
   "outputs": [],
   "source": [
    "a = randint(1,10)"
   ]
  },
  {
   "cell_type": "code",
   "execution_count": 24,
   "metadata": {},
   "outputs": [
    {
     "data": {
      "text/plain": [
       "7"
      ]
     },
     "execution_count": 24,
     "metadata": {},
     "output_type": "execute_result"
    }
   ],
   "source": [
    "a"
   ]
  },
  {
   "cell_type": "code",
   "execution_count": 3,
   "metadata": {},
   "outputs": [],
   "source": [
    "l = [['ayush',3],['karthik',6],['gaurav',7],['akshay',4],['karan',6]]"
   ]
  },
  {
   "cell_type": "code",
   "execution_count": 4,
   "metadata": {},
   "outputs": [],
   "source": [
    "l.sort()"
   ]
  },
  {
   "cell_type": "code",
   "execution_count": 6,
   "metadata": {},
   "outputs": [],
   "source": [
    "l.sort(key=lambda item:item[1])"
   ]
  },
  {
   "cell_type": "code",
   "execution_count": 7,
   "metadata": {},
   "outputs": [
    {
     "data": {
      "text/plain": [
       "[['ayush', 3], ['akshay', 4], ['karan', 6], ['karthik', 6], ['gaurav', 7]]"
      ]
     },
     "execution_count": 7,
     "metadata": {},
     "output_type": "execute_result"
    }
   ],
   "source": [
    "l"
   ]
  },
  {
   "cell_type": "markdown",
   "metadata": {},
   "source": [
    "### Python Program to Convert Kilometers to Miles"
   ]
  },
  {
   "cell_type": "code",
   "execution_count": 34,
   "metadata": {},
   "outputs": [
    {
     "name": "stdout",
     "output_type": "stream",
     "text": [
      "enter distance in kilometers11.273\n",
      "7.00 mile\n"
     ]
    }
   ],
   "source": [
    "km = float(input(\"enter distance in kilometers\"))\n",
    "miles = 0.621*km\n",
    "print(f\"{miles:.2f} mile\")"
   ]
  },
  {
   "cell_type": "markdown",
   "metadata": {},
   "source": [
    "### Python Program to Convert Celsius To Fahrenheit"
   ]
  },
  {
   "cell_type": "code",
   "execution_count": 35,
   "metadata": {},
   "outputs": [
    {
     "name": "stdout",
     "output_type": "stream",
     "text": [
      "enter temprature in celsius25\n",
      "Temprature in fahrenheit is 77.0\n"
     ]
    }
   ],
   "source": [
    "c = float(input(\"enter temprature in celsius\"))\n",
    "f = (c * 9/5) + 32\n",
    "print(f\"Temprature in fahrenheit is {f}\")"
   ]
  },
  {
   "cell_type": "markdown",
   "metadata": {},
   "source": [
    "### Python Program to Check if a Number is Positive, Negative or 0"
   ]
  },
  {
   "cell_type": "code",
   "execution_count": 40,
   "metadata": {},
   "outputs": [
    {
     "name": "stdout",
     "output_type": "stream",
     "text": [
      "enter a number4\n",
      "Positive\n"
     ]
    }
   ],
   "source": [
    "num = int(input(\"enter a number\"))\n",
    "if num > 0 :\n",
    "    print(\"Positive\")\n",
    "elif num < 0 :\n",
    "    print(\"Negetive\")\n",
    "else : \n",
    "    print(\"Zero\")"
   ]
  },
  {
   "cell_type": "markdown",
   "metadata": {},
   "source": [
    "### Python Program to Check if a Number is Odd or Even"
   ]
  },
  {
   "cell_type": "code",
   "execution_count": 41,
   "metadata": {},
   "outputs": [
    {
     "name": "stdout",
     "output_type": "stream",
     "text": [
      "enter a number3\n",
      "Odd\n"
     ]
    }
   ],
   "source": [
    "num = int(input(\"enter a number\"))\n",
    "if num % 2 :\n",
    "    print(\"Odd\")\n",
    "else:\n",
    "    print(\"Even\")"
   ]
  },
  {
   "cell_type": "markdown",
   "metadata": {},
   "source": [
    "### Python Program to Check Leap Year"
   ]
  },
  {
   "cell_type": "code",
   "execution_count": 43,
   "metadata": {},
   "outputs": [
    {
     "name": "stdout",
     "output_type": "stream",
     "text": [
      "enter year2019\n",
      "No Leap Year\n"
     ]
    }
   ],
   "source": [
    "year = int(input(\"enter year\"))\n",
    "if year % 4 :\n",
    "    print(\"No Leap Year\")\n",
    "else:\n",
    "    print(\"Leap Year\")"
   ]
  },
  {
   "cell_type": "markdown",
   "metadata": {},
   "source": [
    "### Python Program to Find the Largest Among Three Numbers"
   ]
  },
  {
   "cell_type": "code",
   "execution_count": 44,
   "metadata": {},
   "outputs": [
    {
     "name": "stdout",
     "output_type": "stream",
     "text": [
      "enter three number seprate bu ,33,22,44\n",
      "c is max\n"
     ]
    }
   ],
   "source": [
    "a,b,c = map(int,input(\"enter three number seprate bu ,\").split(\",\"))\n",
    "if a > b and a > c : \n",
    "    print(\"a is max\")\n",
    "elif b > c :\n",
    "    print(\"b is max\")\n",
    "else: \n",
    "    print(\"c is max\")"
   ]
  },
  {
   "cell_type": "markdown",
   "metadata": {},
   "source": [
    "### Python Program to Check Prime Number"
   ]
  },
  {
   "cell_type": "code",
   "execution_count": 64,
   "metadata": {},
   "outputs": [
    {
     "name": "stdout",
     "output_type": "stream",
     "text": [
      "enter a number127\n",
      "prime\n"
     ]
    }
   ],
   "source": [
    "num = int(input(\"enter a number\"))\n",
    "if num >= 2: \n",
    "    for c in range(2,ceil(sqrt(num))+1):\n",
    "        if num % c == 0 :\n",
    "            if num != c:\n",
    "                print(\"Not Prime\")\n",
    "                break\n",
    "    else:\n",
    "        print(\"prime\")\n",
    "else:\n",
    "    print(\"not prime\")"
   ]
  },
  {
   "cell_type": "code",
   "execution_count": 6,
   "metadata": {},
   "outputs": [
    {
     "name": "stdout",
     "output_type": "stream",
     "text": [
      "enter a number343\n",
      "Not Prime\n"
     ]
    }
   ],
   "source": [
    "from math import ceil,sqrt\n",
    "c = 2\n",
    "num = int(input(\"enter a number\"))\n",
    "if num >= 2:\n",
    "    while c <= ceil(sqrt(num)):\n",
    "        if num % c == 0:\n",
    "            if num != c:\n",
    "                print(\"Not Prime\")\n",
    "                break\n",
    "        c+=1\n",
    "    else:\n",
    "        print(\"Prime\")\n",
    "else:\n",
    "    print(\"not prime\")"
   ]
  },
  {
   "cell_type": "code",
   "execution_count": 7,
   "metadata": {},
   "outputs": [],
   "source": [
    "def Prime(num):\n",
    "    if num >= 2:\n",
    "        for c in range (2,ceil(sqrt(num))+1):\n",
    "            if num % c == 0:\n",
    "                if num != c:\n",
    "                    return \"Not Prime\"\n",
    "        else:\n",
    "            return \"Prime\"\n",
    "    else:\n",
    "        return \"Not Prime\""
   ]
  },
  {
   "cell_type": "code",
   "execution_count": 8,
   "metadata": {},
   "outputs": [
    {
     "data": {
      "text/plain": [
       "'Prime'"
      ]
     },
     "execution_count": 8,
     "metadata": {},
     "output_type": "execute_result"
    }
   ],
   "source": [
    "Prime(2)"
   ]
  },
  {
   "cell_type": "code",
   "execution_count": 10,
   "metadata": {},
   "outputs": [
    {
     "data": {
      "text/plain": [
       "'Not Prime'"
      ]
     },
     "execution_count": 10,
     "metadata": {},
     "output_type": "execute_result"
    }
   ],
   "source": [
    "Prime(121)"
   ]
  },
  {
   "cell_type": "code",
   "execution_count": 11,
   "metadata": {},
   "outputs": [
    {
     "data": {
      "text/plain": [
       "'Prime'"
      ]
     },
     "execution_count": 11,
     "metadata": {},
     "output_type": "execute_result"
    }
   ],
   "source": [
    "Prime(127)"
   ]
  },
  {
   "cell_type": "code",
   "execution_count": 12,
   "metadata": {},
   "outputs": [
    {
     "data": {
      "text/plain": [
       "'Not Prime'"
      ]
     },
     "execution_count": 12,
     "metadata": {},
     "output_type": "execute_result"
    }
   ],
   "source": [
    "Prime(1)"
   ]
  },
  {
   "cell_type": "markdown",
   "metadata": {},
   "source": [
    "### Python Program to Print all Prime Numbers in an Interval"
   ]
  },
  {
   "cell_type": "code",
   "execution_count": 24,
   "metadata": {},
   "outputs": [
    {
     "name": "stdout",
     "output_type": "stream",
     "text": [
      "2\t3\t5\t7\t11\t13\t17\t19\t23\t29\t31\t37\t41\t43\t47\t53\t59\t61\t67\t71\t73\t79\t83\t89\t97\t\n",
      "total no. of prime no. in between 1 to 100 is ---> 25\n"
     ]
    }
   ],
   "source": [
    "a = 0\n",
    "for num in range(1,100):\n",
    "    if num >= 2: \n",
    "        for c in range(2,ceil(sqrt(num))+1):\n",
    "            if num % c == 0 :\n",
    "                if num != c:\n",
    "                    break\n",
    "        else:\n",
    "            a = a+1\n",
    "            print(f\"{num}\",end= '\\t')\n",
    "print()\n",
    "print(\"total no. of prime no. in between 1 to 100 is --->\",a)"
   ]
  },
  {
   "cell_type": "markdown",
   "metadata": {},
   "source": [
    "### Python Program to Find the Factorial of a Number"
   ]
  },
  {
   "cell_type": "code",
   "execution_count": 35,
   "metadata": {},
   "outputs": [],
   "source": [
    "def faCt(num):\n",
    "    if num == 0:\n",
    "        return 1\n",
    "    else:\n",
    "        return num * faCt(num-1)"
   ]
  },
  {
   "cell_type": "code",
   "execution_count": 36,
   "metadata": {},
   "outputs": [
    {
     "data": {
      "text/plain": [
       "120"
      ]
     },
     "execution_count": 36,
     "metadata": {},
     "output_type": "execute_result"
    }
   ],
   "source": [
    "faCt(5)"
   ]
  },
  {
   "cell_type": "code",
   "execution_count": 37,
   "metadata": {},
   "outputs": [
    {
     "data": {
      "text/plain": [
       "25852016738884976640000"
      ]
     },
     "execution_count": 37,
     "metadata": {},
     "output_type": "execute_result"
    }
   ],
   "source": [
    "faCt(23)"
   ]
  },
  {
   "cell_type": "markdown",
   "metadata": {},
   "source": [
    "### Python Program to Display the multiplication Table"
   ]
  },
  {
   "cell_type": "code",
   "execution_count": 40,
   "metadata": {},
   "outputs": [
    {
     "name": "stdout",
     "output_type": "stream",
     "text": [
      "enter a number5\n",
      "5    *    1\t = \t 5\n",
      "5    *    2\t = \t 10\n",
      "5    *    3\t = \t 15\n",
      "5    *    4\t = \t 20\n",
      "5    *    5\t = \t 25\n",
      "5    *    6\t = \t 30\n",
      "5    *    7\t = \t 35\n",
      "5    *    8\t = \t 40\n",
      "5    *    9\t = \t 45\n",
      "5    *   10\t = \t 50\n"
     ]
    }
   ],
   "source": [
    "num = int(input(\"enter a number\"))\n",
    "for var in range(1,11):\n",
    "    print(f\"{num:<5}*{var:>5}\\t = \\t\",(num*var))"
   ]
  },
  {
   "cell_type": "markdown",
   "metadata": {},
   "source": [
    "### Python Program to Print the Fibonacci sequence"
   ]
  },
  {
   "cell_type": "code",
   "execution_count": 53,
   "metadata": {},
   "outputs": [
    {
     "name": "stdout",
     "output_type": "stream",
     "text": [
      "enter a number0\n",
      "enter second number1\n",
      "0\n",
      "1\n",
      "1\n",
      "2\n",
      "3\n",
      "5\n",
      "8\n",
      "13\n",
      "21\n",
      "34\n",
      "55\n",
      "89\n",
      "144\n",
      "233\n",
      "377\n",
      "610\n"
     ]
    }
   ],
   "source": [
    "a = int(input(\"enter a number\"))\n",
    "b = int(input(\"enter second number\"))\n",
    "\n",
    "for var in range(8):\n",
    "    print(a)\n",
    "    print(b)\n",
    "    c = a+b\n",
    "    b = c+ b\n",
    "    a = c\n",
    "    "
   ]
  },
  {
   "cell_type": "markdown",
   "metadata": {},
   "source": [
    "### Python Program to Check Armstrong Number"
   ]
  },
  {
   "cell_type": "code",
   "execution_count": 65,
   "metadata": {},
   "outputs": [
    {
     "name": "stdout",
     "output_type": "stream",
     "text": [
      "enter a number1634\n",
      "This is armstrong number\n"
     ]
    }
   ],
   "source": [
    "a = input(\"enter a number\")\n",
    "n = len(a)\n",
    "num = int(a)\n",
    "p = num\n",
    "arms = 0\n",
    "for var in range(1,n+1):\n",
    "    m = p % 10\n",
    "    p = p // 10\n",
    "    arms = arms + m**n\n",
    "if arms == num:\n",
    "    print(\"This is armstrong number\")\n",
    "else:\n",
    "    print(\"not\")"
   ]
  },
  {
   "cell_type": "code",
   "execution_count": 56,
   "metadata": {},
   "outputs": [],
   "source": [
    "num = 123434343434"
   ]
  },
  {
   "cell_type": "code",
   "execution_count": 62,
   "metadata": {},
   "outputs": [
    {
     "data": {
      "text/plain": [
       "4"
      ]
     },
     "execution_count": 62,
     "metadata": {},
     "output_type": "execute_result"
    }
   ],
   "source": [
    "len('1234')"
   ]
  },
  {
   "cell_type": "markdown",
   "metadata": {},
   "source": [
    "### Python Program to Find Armstrong Number in an Interval"
   ]
  },
  {
   "cell_type": "code",
   "execution_count": 79,
   "metadata": {},
   "outputs": [
    {
     "name": "stdout",
     "output_type": "stream",
     "text": [
      "enter two number seprate by comma1,10000\n",
      "1 is armstrong number\n",
      "2 is armstrong number\n",
      "3 is armstrong number\n",
      "4 is armstrong number\n",
      "5 is armstrong number\n",
      "6 is armstrong number\n",
      "7 is armstrong number\n",
      "8 is armstrong number\n",
      "9 is armstrong number\n",
      "153 is armstrong number\n",
      "370 is armstrong number\n",
      "371 is armstrong number\n",
      "407 is armstrong number\n",
      "1634 is armstrong number\n",
      "8208 is armstrong number\n",
      "9474 is armstrong number\n",
      "total number of armstrong number is ---> 16\n"
     ]
    }
   ],
   "source": [
    "x = 0\n",
    "e,f = map(int,input(\"enter two number seprate by comma\").split(\",\"))\n",
    "for a in range(e,f):\n",
    "    b = str(a)\n",
    "    n = len(b)\n",
    "    num = int(b)\n",
    "    p = num\n",
    "    arms = 0\n",
    "    for var in range(1,n+1):\n",
    "        m = p % 10\n",
    "        p = p // 10\n",
    "        arms = arms + m**n\n",
    "    if arms == num:\n",
    "        x+=1\n",
    "        print(f\"{num} is armstrong number\")\n",
    "print(\"total number of armstrong number is --->\",x)"
   ]
  },
  {
   "cell_type": "markdown",
   "metadata": {},
   "source": [
    "### Python Program to Find the Sum of Natural Numbers"
   ]
  },
  {
   "cell_type": "code",
   "execution_count": 1,
   "metadata": {},
   "outputs": [
    {
     "name": "stdout",
     "output_type": "stream",
     "text": [
      "enter first number to be start3\n",
      "etner second number to be start8\n",
      "total sum of given no. is ---> 33\n"
     ]
    }
   ],
   "source": [
    "a = int(input(\"enter first number to be start\"))\n",
    "b = int(input(\"etner second number to be start\"))\n",
    "sum = 0\n",
    "while a <= b:\n",
    "    sum = sum + a\n",
    "    a+=1\n",
    "print(\"total sum of given no. is --->\",sum)"
   ]
  },
  {
   "cell_type": "code",
   "execution_count": 6,
   "metadata": {},
   "outputs": [
    {
     "name": "stdout",
     "output_type": "stream",
     "text": [
      "enter a number 1 2 3 4 5 6\n",
      "21\n"
     ]
    }
   ],
   "source": [
    "a= list(map(int,input(\"enter a number \").split(\" \")))\n",
    "print(sum(a))"
   ]
  },
  {
   "cell_type": "markdown",
   "metadata": {},
   "source": [
    "### Python Program To Display Powers of 2 Using Anonymous Function"
   ]
  },
  {
   "cell_type": "markdown",
   "metadata": {},
   "source": [
    "### inline,anonymous function ----> lambda"
   ]
  },
  {
   "cell_type": "code",
   "execution_count": 12,
   "metadata": {},
   "outputs": [
    {
     "name": "stdout",
     "output_type": "stream",
     "text": [
      "enter value of x10\n",
      "2 ** 0 = 1\n",
      "2 ** 1 = 2\n",
      "2 ** 2 = 4\n",
      "2 ** 3 = 8\n",
      "2 ** 4 = 16\n",
      "2 ** 5 = 32\n",
      "2 ** 6 = 64\n",
      "2 ** 7 = 128\n",
      "2 ** 8 = 256\n",
      "2 ** 9 = 512\n",
      "2 ** 10 = 1024\n"
     ]
    }
   ],
   "source": [
    "x = int(input(\"enter value of x\"))\n",
    "power = lambda x : 2**x\n",
    "for var in range(x+1):\n",
    "    power(x)\n",
    "    print(f\"2 ** {var} = {2**var}\")"
   ]
  },
  {
   "cell_type": "markdown",
   "metadata": {},
   "source": [
    "### Python Program to Find Numbers Divisible by Another Number"
   ]
  },
  {
   "cell_type": "code",
   "execution_count": 2,
   "metadata": {},
   "outputs": [
    {
     "name": "stdout",
     "output_type": "stream",
     "text": [
      "enter any number38\n",
      "1\n",
      "2\n",
      "19\n",
      "38\n"
     ]
    }
   ],
   "source": [
    "num = int(input(\"enter any number\"))\n",
    "c = 1\n",
    "while c <= num :\n",
    "    if num % c == 0:\n",
    "        print(c)\n",
    "    c+=1"
   ]
  },
  {
   "cell_type": "markdown",
   "metadata": {},
   "source": [
    "### Python Program to Convert Decimal to Binary, Octal and Hexadecimal"
   ]
  },
  {
   "cell_type": "code",
   "execution_count": 7,
   "metadata": {},
   "outputs": [
    {
     "name": "stdout",
     "output_type": "stream",
     "text": [
      "enter any number10\n",
      "conversion--->(0b1010,0o12,0xa)\n"
     ]
    }
   ],
   "source": [
    "num = int(input(\"enter any number\"))\n",
    "print(f\"conversion--->({bin(num)},{oct(num)},{hex(num)})\",)"
   ]
  },
  {
   "cell_type": "markdown",
   "metadata": {},
   "source": [
    "### Python Program to Find ASCII Value of Character"
   ]
  },
  {
   "cell_type": "code",
   "execution_count": 16,
   "metadata": {},
   "outputs": [
    {
     "name": "stdout",
     "output_type": "stream",
     "text": [
      "enter a character-\n",
      "45\n"
     ]
    }
   ],
   "source": [
    "n = input(\"enter a character\")\n",
    "print(ord(n))"
   ]
  },
  {
   "cell_type": "markdown",
   "metadata": {},
   "source": [
    "### Python Program to Find HCF or GCD"
   ]
  },
  {
   "cell_type": "code",
   "execution_count": 28,
   "metadata": {},
   "outputs": [],
   "source": [
    "from math import gcd"
   ]
  },
  {
   "cell_type": "code",
   "execution_count": 31,
   "metadata": {},
   "outputs": [
    {
     "name": "stdout",
     "output_type": "stream",
     "text": [
      "enter two numbers36,99\n",
      "9\n"
     ]
    }
   ],
   "source": [
    "a,b = map(int,input(\"enter two numbers\").split(\",\"))\n",
    "g = gcd(a,b)\n",
    "print(g)"
   ]
  },
  {
   "cell_type": "markdown",
   "metadata": {},
   "source": [
    "### Python Program to Find LCM"
   ]
  },
  {
   "cell_type": "code",
   "execution_count": 4,
   "metadata": {},
   "outputs": [
    {
     "name": "stdout",
     "output_type": "stream",
     "text": [
      "enter two number14,10\n",
      "LCM is --->  70\n"
     ]
    }
   ],
   "source": [
    "a,b = map(int,input(\"enter two number\").split(\",\"))\n",
    "if a == b :\n",
    "    print(\"LCM is ---> \",a)\n",
    "elif a > b :\n",
    "    x = a\n",
    "    while True :\n",
    "        if x % a == 0 and x % b == 0:\n",
    "            print(\"LCM is ---> \",x)\n",
    "            break\n",
    "        x+=1\n",
    "else:\n",
    "    x = b\n",
    "    while True :\n",
    "        if x % a == 0 and x % b == 0:\n",
    "            print(\"LCM is --->\",x)\n",
    "            break\n",
    "        x+=1"
   ]
  },
  {
   "cell_type": "markdown",
   "metadata": {},
   "source": [
    "### Python Program to Find Factors of Number"
   ]
  },
  {
   "cell_type": "code",
   "execution_count": 4,
   "metadata": {},
   "outputs": [
    {
     "name": "stdout",
     "output_type": "stream",
     "text": [
      "enter a number156\n",
      "2\n",
      "2\n",
      "3\n",
      "13\n"
     ]
    }
   ],
   "source": [
    "a = int(input(\"enter a number\"))\n",
    "c = 2\n",
    "while a >  1 :\n",
    "    if a % c == 0:\n",
    "        print(c)\n",
    "        a = a // c\n",
    "    else:\n",
    "        c+=1"
   ]
  },
  {
   "cell_type": "markdown",
   "metadata": {},
   "source": [
    "### Python Program to Make a Simple Calculator"
   ]
  },
  {
   "cell_type": "code",
   "execution_count": 18,
   "metadata": {},
   "outputs": [
    {
     "name": "stdout",
     "output_type": "stream",
     "text": [
      "Enter first Number : 2\n",
      "+ for addition\n",
      "- for subtraction\n",
      "* for multiplication\n",
      "/ for division\n",
      "Enter Your choice/\n",
      "Enter second Number : 3\n",
      "0.6666666666666666\n"
     ]
    }
   ],
   "source": [
    "a = int(input(\"Enter first Number : \"))\n",
    "print(\"+ for addition\")\n",
    "print(\"- for subtraction\")\n",
    "print(\"* for multiplication\")\n",
    "print(\"/ for division\")\n",
    "x = input(\"Enter Your choice\")\n",
    "b = int(input(\"Enter second Number : \"))\n",
    "if x == '+':\n",
    "    print(a+b)\n",
    "elif x == '-':\n",
    "    print(a-b)\n",
    "elif x == '*':\n",
    "    print(a*b)\n",
    "elif x == '/':\n",
    "    print(a/b)\n",
    "else:\n",
    "    print(\"Wrong Choice\")"
   ]
  },
  {
   "cell_type": "markdown",
   "metadata": {},
   "source": [
    "### Python Program to Shuffle Deck of Cards"
   ]
  },
  {
   "cell_type": "code",
   "execution_count": 21,
   "metadata": {},
   "outputs": [
    {
     "name": "stdout",
     "output_type": "stream",
     "text": [
      "s3\n",
      "d3\n",
      "h9\n",
      "c1\n",
      "s4\n",
      "s8\n",
      "cq\n",
      "c4\n",
      "h4\n",
      "s1\n",
      "s6\n",
      "h3\n",
      "s10\n",
      "d8\n",
      "c3\n",
      "sj\n",
      "d2\n",
      "s9\n",
      "sk\n",
      "d1\n",
      "s7\n",
      "c7\n",
      "c8\n",
      "c6\n",
      "d5\n",
      "h1\n",
      "h7\n",
      "s2\n",
      "c10\n",
      "c2\n",
      "hq\n",
      "ck\n",
      "sq\n",
      "h5\n",
      "d7\n",
      "d10\n",
      "d6\n",
      "s5\n",
      "c9\n",
      "dj\n",
      "hk\n",
      "dk\n",
      "cj\n",
      "c5\n",
      "h2\n",
      "dq\n",
      "h10\n",
      "h6\n",
      "hj\n",
      "h8\n",
      "d4\n",
      "d9\n"
     ]
    }
   ],
   "source": [
    "from random import choice\n",
    "ch = ['h1','h2','h3','h4','h5','h6','h7','h8','h9','h10','hj','hq','hk',\n",
    "      'd1','d2','d3','d4','d5','d6','d7','d8','d9','d10','dj','dq','dk',\n",
    "      'c1','c2','c3','c4','c5','c6','c7','c8','c9','c10','cj','cq','ck',\n",
    "      's1','s2','s3','s4','s5','s6','s7','s8','s9','s10','sj','sq','sk']\n",
    "for var in range(52):\n",
    "    a = choice(ch)\n",
    "    print(a)\n",
    "    ch.remove(a)"
   ]
  },
  {
   "cell_type": "markdown",
   "metadata": {},
   "source": [
    "### Python Program to Display Calendar"
   ]
  },
  {
   "cell_type": "code",
   "execution_count": 4,
   "metadata": {},
   "outputs": [
    {
     "name": "stdout",
     "output_type": "stream",
     "text": [
      "     June 2019\n",
      "Mo Tu We Th Fr Sa Su\n",
      "                1  2\n",
      " 3  4  5  6  7  8  9\n",
      "10 11 12 13 14 15 16\n",
      "17 18 19 20 21 22 23\n",
      "24 25 26 27 28 29 30\n",
      "\n"
     ]
    }
   ],
   "source": [
    "import calendar\n",
    "y = 2019\n",
    "m = 6\n",
    "print(calendar.month(y,m))"
   ]
  },
  {
   "cell_type": "markdown",
   "metadata": {},
   "source": [
    "### Python Program to Display Fibonacci Sequence Using Recursion"
   ]
  },
  {
   "cell_type": "code",
   "execution_count": 7,
   "metadata": {},
   "outputs": [],
   "source": [
    "def fibo(n):\n",
    "    global a,b\n",
    "    if n == 0:\n",
    "        return a\n",
    "    else:\n",
    "        print(a)\n",
    "        print(b)\n",
    "        a = a + b\n",
    "        b = a + b\n",
    "        return fibo(n-1)"
   ]
  },
  {
   "cell_type": "code",
   "execution_count": 8,
   "metadata": {},
   "outputs": [
    {
     "name": "stdout",
     "output_type": "stream",
     "text": [
      "enter a number0\n",
      "enter another number1\n",
      "enter how many terms you want to print5\n",
      "0\n",
      "1\n",
      "1\n",
      "2\n",
      "3\n",
      "5\n",
      "8\n",
      "13\n",
      "21\n",
      "34\n",
      "55\n"
     ]
    }
   ],
   "source": [
    "a = int(input(\"enter a number\"))\n",
    "b = int(input(\"enter another number\"))\n",
    "n = int (input(\"enter how many terms you want to print\"))\n",
    "x = fibo(n)\n",
    "print(x)"
   ]
  },
  {
   "cell_type": "markdown",
   "metadata": {},
   "source": [
    "### Python Program to Find Sum of Natural Numbers Using Recursion"
   ]
  },
  {
   "cell_type": "code",
   "execution_count": 13,
   "metadata": {},
   "outputs": [],
   "source": [
    "def natural(num):\n",
    "    if num < 1 :\n",
    "        return \"not natural number\"\n",
    "    elif num == 1:\n",
    "        return 1\n",
    "    else:\n",
    "        return num + natural(num-1)"
   ]
  },
  {
   "cell_type": "code",
   "execution_count": 14,
   "metadata": {},
   "outputs": [],
   "source": [
    "a = natural(15)"
   ]
  },
  {
   "cell_type": "code",
   "execution_count": 15,
   "metadata": {},
   "outputs": [
    {
     "name": "stdout",
     "output_type": "stream",
     "text": [
      "120\n"
     ]
    }
   ],
   "source": [
    "print(a)"
   ]
  },
  {
   "cell_type": "markdown",
   "metadata": {},
   "source": [
    "### Python Program to Find Factorial of Number Using Recursion"
   ]
  },
  {
   "cell_type": "code",
   "execution_count": 16,
   "metadata": {},
   "outputs": [],
   "source": [
    "def fact(num):\n",
    "    if num < 0:\n",
    "        return \"invalid number\"\n",
    "    elif num == 0:\n",
    "        return 1\n",
    "    else:\n",
    "        return num * fact(num-1)"
   ]
  },
  {
   "cell_type": "code",
   "execution_count": 17,
   "metadata": {},
   "outputs": [],
   "source": [
    "a = fact(8)"
   ]
  },
  {
   "cell_type": "code",
   "execution_count": 20,
   "metadata": {},
   "outputs": [
    {
     "data": {
      "text/plain": [
       "40320"
      ]
     },
     "execution_count": 20,
     "metadata": {},
     "output_type": "execute_result"
    }
   ],
   "source": [
    "a"
   ]
  },
  {
   "cell_type": "markdown",
   "metadata": {},
   "source": [
    "### Python Program to Convert Decimal to Binary Using Recursion"
   ]
  },
  {
   "cell_type": "code",
   "execution_count": 43,
   "metadata": {},
   "outputs": [],
   "source": [
    "def dec(num):\n",
    "    if num == 1:\n",
    "        return 1\n",
    "    else:\n",
    "        val = num % 2\n",
    "        num = num // 2\n",
    "        return f\"{dec(num)}\" + f\"{val}\""
   ]
  },
  {
   "cell_type": "code",
   "execution_count": 47,
   "metadata": {},
   "outputs": [],
   "source": [
    "a = '0b'+dec(151)"
   ]
  },
  {
   "cell_type": "code",
   "execution_count": 48,
   "metadata": {},
   "outputs": [
    {
     "data": {
      "text/plain": [
       "'0b10010111'"
      ]
     },
     "execution_count": 48,
     "metadata": {},
     "output_type": "execute_result"
    }
   ],
   "source": [
    "a"
   ]
  },
  {
   "cell_type": "code",
   "execution_count": 50,
   "metadata": {},
   "outputs": [
    {
     "data": {
      "text/plain": [
       "'0b10010111'"
      ]
     },
     "execution_count": 50,
     "metadata": {},
     "output_type": "execute_result"
    }
   ],
   "source": [
    "bin(151)"
   ]
  },
  {
   "cell_type": "markdown",
   "metadata": {},
   "source": [
    "### Python Program to Add Two Matrices"
   ]
  },
  {
   "cell_type": "code",
   "execution_count": 63,
   "metadata": {},
   "outputs": [
    {
     "name": "stdout",
     "output_type": "stream",
     "text": [
      "Number : 1\n",
      "Number : 2\n",
      "Number : 3\n",
      "Number : 4\n",
      "Number : 5\n",
      "Number : 6\n",
      "Number : 7\n",
      "Number : 8\n",
      "Number : 9\n"
     ]
    }
   ],
   "source": [
    "matrix1 = []\n",
    "for var in range(3):\n",
    "    column = []\n",
    "    for c in range(3):\n",
    "        column.append(int(input(\"Number : \")))\n",
    "    matrix1.append(column)"
   ]
  },
  {
   "cell_type": "code",
   "execution_count": 64,
   "metadata": {},
   "outputs": [
    {
     "data": {
      "text/plain": [
       "[[1, 2, 3], [4, 5, 6], [7, 8, 9]]"
      ]
     },
     "execution_count": 64,
     "metadata": {},
     "output_type": "execute_result"
    }
   ],
   "source": [
    "matrix1"
   ]
  },
  {
   "cell_type": "code",
   "execution_count": null,
   "metadata": {},
   "outputs": [],
   "source": []
  }
 ],
 "metadata": {
  "kernelspec": {
   "display_name": "Python 3",
   "language": "python",
   "name": "python3"
  },
  "language_info": {
   "codemirror_mode": {
    "name": "ipython",
    "version": 3
   },
   "file_extension": ".py",
   "mimetype": "text/x-python",
   "name": "python",
   "nbconvert_exporter": "python",
   "pygments_lexer": "ipython3",
   "version": "3.6.5"
  }
 },
 "nbformat": 4,
 "nbformat_minor": 2
}
