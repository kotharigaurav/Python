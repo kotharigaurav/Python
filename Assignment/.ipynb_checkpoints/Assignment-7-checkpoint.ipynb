{
 "cells": [
  {
   "cell_type": "markdown",
   "metadata": {},
   "source": [
    "### Write a Python program to find maximum between two numbers."
   ]
  },
  {
   "cell_type": "code",
   "execution_count": 4,
   "metadata": {},
   "outputs": [
    {
     "name": "stdout",
     "output_type": "stream",
     "text": [
      "enter two numbers43,33\n",
      "a is max\n"
     ]
    }
   ],
   "source": [
    "a,b = map(int,input(\"enter two numbers\").split(\",\"))\n",
    "if a > b:\n",
    "    print(\"a is max\")\n",
    "else:\n",
    "    print(\"b is max\")"
   ]
  },
  {
   "cell_type": "markdown",
   "metadata": {},
   "source": [
    "### Write a Python program to find maximum between two numbers."
   ]
  },
  {
   "cell_type": "code",
   "execution_count": 7,
   "metadata": {},
   "outputs": [
    {
     "name": "stdout",
     "output_type": "stream",
     "text": [
      "enter three number and split them by a comma22,23,55\n",
      "55 is max\n"
     ]
    }
   ],
   "source": [
    "a,b,c = map(int,input(\"enter three number and split them by a comma\").split(\",\"))\n",
    "if a > b and a > c :\n",
    "    f = a\n",
    "elif b > c:\n",
    "    f = b\n",
    "else:\n",
    "    f = c\n",
    "print(f\"{f} is max\")"
   ]
  },
  {
   "cell_type": "markdown",
   "metadata": {},
   "source": [
    "### Write a Python program to check whether a number is negative, positive or zero."
   ]
  },
  {
   "cell_type": "code",
   "execution_count": 10,
   "metadata": {},
   "outputs": [
    {
     "name": "stdout",
     "output_type": "stream",
     "text": [
      "enter a number-4\n",
      "number is negetive\n"
     ]
    }
   ],
   "source": [
    "num = int(input(\"enter a number\"))\n",
    "if num == 0:\n",
    "    print(\"number is zero\")\n",
    "elif num > 0:\n",
    "    print(\"number is positive\")\n",
    "else:\n",
    "    print(\"number is negetive\")"
   ]
  },
  {
   "cell_type": "markdown",
   "metadata": {},
   "source": [
    "### Write a Python program to check whether a number is divisible by 5 and 11 or not."
   ]
  },
  {
   "cell_type": "code",
   "execution_count": 14,
   "metadata": {},
   "outputs": [
    {
     "name": "stdout",
     "output_type": "stream",
     "text": [
      "enter a number24\n",
      "number is not divisible by both 5 or 9\n"
     ]
    }
   ],
   "source": [
    "num = int(input(\"enter a number\"))\n",
    "if num % 9 == 0 and num % 5 == 0:\n",
    "    print(\"number is divisible by both 5 or 9\")\n",
    "elif num % 9 == 0:\n",
    "    print(\"number is divisible by 9\")\n",
    "elif num % 5 == 0:\n",
    "    print(\"number is divisible by 5\")\n",
    "else:\n",
    "    print(\"number is not divisible by both 5 or 9\")"
   ]
  },
  {
   "cell_type": "markdown",
   "metadata": {},
   "source": [
    "### Write a Python program to check whether a number is even or odd."
   ]
  },
  {
   "cell_type": "code",
   "execution_count": 16,
   "metadata": {},
   "outputs": [
    {
     "name": "stdout",
     "output_type": "stream",
     "text": [
      "enter a number4\n",
      "a is even\n"
     ]
    }
   ],
   "source": [
    "a = int(input(\"enter a number\"))\n",
    "if a % 2:\n",
    "    print(\"a is odd\")\n",
    "else:\n",
    "    print(\"a is even\")"
   ]
  },
  {
   "cell_type": "markdown",
   "metadata": {},
   "source": [
    "### Write a Python program to check whether a year is leap year or not."
   ]
  },
  {
   "cell_type": "code",
   "execution_count": 19,
   "metadata": {},
   "outputs": [
    {
     "name": "stdout",
     "output_type": "stream",
     "text": [
      "enter a year2019\n",
      "given year is not leap year\n"
     ]
    }
   ],
   "source": [
    "a = int(input(\"enter a year\"))\n",
    "if a % 4:\n",
    "    print(\"given year is not leap year\")\n",
    "else:\n",
    "    print(\"given year is leap year\")"
   ]
  },
  {
   "cell_type": "markdown",
   "metadata": {},
   "source": [
    "### Write a Python program to check whether a character is alphabet or not."
   ]
  },
  {
   "cell_type": "code",
   "execution_count": 28,
   "metadata": {},
   "outputs": [
    {
     "name": "stdout",
     "output_type": "stream",
     "text": [
      "enter a characterT\n",
      "given character is alphabet\n"
     ]
    }
   ],
   "source": [
    "a = input(\"enter a character\")\n",
    "ch = ord(a)\n",
    "if ch >= 65 and ch <= 90 or ch >= 97 and ch <= 122:\n",
    "    print(\"given character is alphabet\")\n",
    "else:\n",
    "    print(\"given character is not alphabet\")"
   ]
  },
  {
   "cell_type": "code",
   "execution_count": 71,
   "metadata": {},
   "outputs": [
    {
     "name": "stdout",
     "output_type": "stream",
     "text": [
      "enter a characterw\n",
      "a is alphabet\n"
     ]
    }
   ],
   "source": [
    "a = input(\"enter a character\")\n",
    "if a.isalpha():\n",
    "    print(\"a is alphabet\")\n",
    "else:\n",
    "    print(\"a is not alphabet\")"
   ]
  },
  {
   "cell_type": "code",
   "execution_count": 72,
   "metadata": {},
   "outputs": [
    {
     "name": "stdout",
     "output_type": "stream",
     "text": [
      "enter a characterf\n",
      "a is alphabet\n"
     ]
    }
   ],
   "source": [
    "a = input(\"enter a character\")\n",
    "if a >= 'A' and a <= 'Z' or a >= 'a' and a <= 'z':\n",
    "    print(\"a is alphabet\")\n",
    "else:\n",
    "    print(\"a is not alphabet\")"
   ]
  },
  {
   "cell_type": "markdown",
   "metadata": {},
   "source": [
    "### Write a Python program to input any alphabet and check whether it is vowel or consonant."
   ]
  },
  {
   "cell_type": "code",
   "execution_count": 48,
   "metadata": {},
   "outputs": [
    {
     "name": "stdout",
     "output_type": "stream",
     "text": [
      "enter any alphabetU\n",
      "U is vowel\n"
     ]
    }
   ],
   "source": [
    "a = input(\"enter any alphabet\")\n",
    "ch = ord(a)\n",
    "if ch >= 65 and ch <=90 or ch >= 97 and ch <= 122:\n",
    "    if a == 'a' or a == 'e' or a == 'i' or a == 'o' or a == 'u' or a == 'A' or a == 'E' or a == 'I' or a == 'O' or a == 'U':\n",
    "        print(f\"{a} is vowel\")\n",
    "    else:\n",
    "        print(f\"{a} is consonant\")\n",
    "else:\n",
    "    print(\"invalid alphabet\")"
   ]
  },
  {
   "cell_type": "markdown",
   "metadata": {},
   "source": [
    "### Write a Python program to input any character and check whether it is alphabet, digit or special character."
   ]
  },
  {
   "cell_type": "code",
   "execution_count": 58,
   "metadata": {},
   "outputs": [
    {
     "name": "stdout",
     "output_type": "stream",
     "text": [
      "input any characterR\n",
      "Character is Alphabet\n"
     ]
    }
   ],
   "source": [
    "a = input(\"input any character\")\n",
    "ch = ord(a)\n",
    "if ch >= 65 and ch <= 90 or ch >= 97 and ch <= 122:\n",
    "    print(\"Character is Alphabet\")\n",
    "elif ch >= 48 and ch <= 57:\n",
    "    print(\"character is digit\")\n",
    "else:\n",
    "    print(\"special character\")"
   ]
  },
  {
   "cell_type": "markdown",
   "metadata": {},
   "source": [
    "### Write a Python program to check whether a character is uppercase or lowercase alphabet."
   ]
  },
  {
   "cell_type": "code",
   "execution_count": 62,
   "metadata": {},
   "outputs": [
    {
     "name": "stdout",
     "output_type": "stream",
     "text": [
      "enter a alphabetE\n",
      "a is uppercase alphabet\n"
     ]
    }
   ],
   "source": [
    "a = input(\"enter a alphabet\")\n",
    "if a.isupper():\n",
    "    print(\"a is uppercase alphabet\")\n",
    "elif a.islower():\n",
    "    print(\"a is lowercase alphabet\")\n",
    "else:\n",
    "    print(\"invalid alphabet\")"
   ]
  },
  {
   "cell_type": "code",
   "execution_count": 76,
   "metadata": {},
   "outputs": [
    {
     "name": "stdout",
     "output_type": "stream",
     "text": [
      "enter a alphabetE\n",
      "uppercase alphabet\n"
     ]
    }
   ],
   "source": [
    "a = input(\"enter a alphabet\")\n",
    "if a >= 'A' and a <= 'Z':\n",
    "    print(\"uppercase alphabet\")\n",
    "elif a >= 'a' and a <= 'z':\n",
    "    print('lowercase alphabet')\n",
    "else:\n",
    "    print(\"invalid alphabet\")"
   ]
  },
  {
   "cell_type": "markdown",
   "metadata": {},
   "source": [
    "### Write a Python program to input week number and print week day."
   ]
  },
  {
   "cell_type": "code",
   "execution_count": 7,
   "metadata": {},
   "outputs": [
    {
     "name": "stdout",
     "output_type": "stream",
     "text": [
      "enter a number in between 1 to 7 : 5\n",
      "Friday\n"
     ]
    }
   ],
   "source": [
    "a = int(input(\"enter a number in between 1 to 7 : \"))\n",
    "if a >= 1 and a <= 7:\n",
    "    if a == 1:\n",
    "        print(\"Monday\")\n",
    "    elif a == 2:\n",
    "        print(\"Tuesday\")\n",
    "    elif a == 3:\n",
    "        print(\"Wednesday\")\n",
    "    elif a == 4:\n",
    "        print(\"Thursday\")\n",
    "    elif a == 5:\n",
    "        print(\"Friday\")\n",
    "    elif a == 6:\n",
    "        print(\"Saturday\")\n",
    "    else:\n",
    "        print(\"Sunday\")\n",
    "else:\n",
    "    print(\"invalid number\")"
   ]
  },
  {
   "cell_type": "code",
   "execution_count": 8,
   "metadata": {},
   "outputs": [
    {
     "name": "stdout",
     "output_type": "stream",
     "text": [
      "enter a number in between 1 to 7 : 69\n",
      "Saturday\n"
     ]
    }
   ],
   "source": [
    "a = int(input(\"enter a number in between 1 to 7 : \"))\n",
    "if a % 7 == 1:\n",
    "    print(\"Monday\")\n",
    "elif a % 7 == 2:\n",
    "    print(\"Tuesday\")\n",
    "elif a % 7 == 3:\n",
    "    print(\"Wednesday\")\n",
    "elif a % 7 == 4:\n",
    "    print(\"Thursday\")\n",
    "elif a % 7== 5:\n",
    "    print(\"Friday\")\n",
    "elif a % 7 == 6:\n",
    "    print(\"Saturday\")\n",
    "elif a % 7 == 7:\n",
    "    print(\"Sunday\")"
   ]
  },
  {
   "cell_type": "markdown",
   "metadata": {},
   "source": [
    "### Write a Python program to input month number and print number of days in that month."
   ]
  },
  {
   "cell_type": "code",
   "execution_count": 23,
   "metadata": {},
   "outputs": [
    {
     "name": "stdout",
     "output_type": "stream",
     "text": [
      "enter month number in between 1 to 12 : 10\n",
      "October has 31 days.\n"
     ]
    }
   ],
   "source": [
    "a = int(input(\"enter month number in between 1 to 12 : \"))\n",
    "if a >= 1 and a <= 12:\n",
    "    if a == 1:\n",
    "        print(\"January has 31 days.\")\n",
    "    elif a == 2:\n",
    "        print(\"February has 28 days.\")\n",
    "    elif a == 3:\n",
    "        print(\"March has 31 days.\")\n",
    "    elif a == 4:\n",
    "        print(\"April has 30 days.\")\n",
    "    elif a == 5:\n",
    "        print(\"May has 31 days.\")\n",
    "    elif a == 6:\n",
    "        print(\"June has 30 days.\")\n",
    "    elif a == 7:\n",
    "        print(\"July has 31 days.\")\n",
    "    elif a == 8:\n",
    "        print(\"August has 31 days.\")\n",
    "    elif a == 9:\n",
    "        print(\"September has 30 days.\")\n",
    "    elif a == 10:\n",
    "        print(\"October has 31 days.\")\n",
    "    elif a == 11:\n",
    "        print(\"November has 30 days.\")\n",
    "    else:\n",
    "        print(\"December has 31 days.\")\n",
    "else:\n",
    "    print(\"invalid number\")"
   ]
  },
  {
   "cell_type": "markdown",
   "metadata": {},
   "source": [
    "### Write a Python program to count total number of notes in given amount."
   ]
  },
  {
   "cell_type": "code",
   "execution_count": null,
   "metadata": {},
   "outputs": [],
   "source": [
    "amt = int(input(\"enter the amount\"))\n"
   ]
  },
  {
   "cell_type": "code",
   "execution_count": 24,
   "metadata": {},
   "outputs": [],
   "source": [
    "import os"
   ]
  },
  {
   "cell_type": "code",
   "execution_count": 25,
   "metadata": {},
   "outputs": [
    {
     "data": {
      "text/plain": [
       "1"
      ]
     },
     "execution_count": 25,
     "metadata": {},
     "output_type": "execute_result"
    }
   ],
   "source": [
    "os.ystem(\"notepad\")"
   ]
  },
  {
   "cell_type": "code",
   "execution_count": null,
   "metadata": {},
   "outputs": [],
   "source": []
  }
 ],
 "metadata": {
  "kernelspec": {
   "display_name": "Python 3",
   "language": "python",
   "name": "python3"
  },
  "language_info": {
   "codemirror_mode": {
    "name": "ipython",
    "version": 3
   },
   "file_extension": ".py",
   "mimetype": "text/x-python",
   "name": "python",
   "nbconvert_exporter": "python",
   "pygments_lexer": "ipython3",
   "version": "3.6.5"
  }
 },
 "nbformat": 4,
 "nbformat_minor": 2
}
