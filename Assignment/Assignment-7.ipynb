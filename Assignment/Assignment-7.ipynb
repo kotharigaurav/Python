{
 "cells": [
  {
   "cell_type": "markdown",
   "metadata": {},
   "source": [
    "### Write a Python program to find maximum between two numbers."
   ]
  },
  {
   "cell_type": "code",
   "execution_count": 4,
   "metadata": {},
   "outputs": [
    {
     "name": "stdout",
     "output_type": "stream",
     "text": [
      "enter two numbers43,33\n",
      "a is max\n"
     ]
    }
   ],
   "source": [
    "a,b = map(int,input(\"enter two numbers\").split(\",\"))\n",
    "if a > b:\n",
    "    print(\"a is max\")\n",
    "else:\n",
    "    print(\"b is max\")"
   ]
  },
  {
   "cell_type": "markdown",
   "metadata": {},
   "source": [
    "### Write a Python program to find maximum between two numbers."
   ]
  },
  {
   "cell_type": "code",
   "execution_count": 7,
   "metadata": {},
   "outputs": [
    {
     "name": "stdout",
     "output_type": "stream",
     "text": [
      "enter three number and split them by a comma22,23,55\n",
      "55 is max\n"
     ]
    }
   ],
   "source": [
    "a,b,c = map(int,input(\"enter three number and split them by a comma\").split(\",\"))\n",
    "if a > b and a > c :\n",
    "    f = a\n",
    "elif b > c:\n",
    "    f = b\n",
    "else:\n",
    "    f = c\n",
    "print(f\"{f} is max\")"
   ]
  },
  {
   "cell_type": "markdown",
   "metadata": {},
   "source": [
    "### Write a Python program to check whether a number is negative, positive or zero."
   ]
  },
  {
   "cell_type": "code",
   "execution_count": 10,
   "metadata": {},
   "outputs": [
    {
     "name": "stdout",
     "output_type": "stream",
     "text": [
      "enter a number-4\n",
      "number is negetive\n"
     ]
    }
   ],
   "source": [
    "num = int(input(\"enter a number\"))\n",
    "if num == 0:\n",
    "    print(\"number is zero\")\n",
    "elif num > 0:\n",
    "    print(\"number is positive\")\n",
    "else:\n",
    "    print(\"number is negetive\")"
   ]
  },
  {
   "cell_type": "markdown",
   "metadata": {},
   "source": [
    "### Write a Python program to check whether a number is divisible by 5 and 11 or not."
   ]
  },
  {
   "cell_type": "code",
   "execution_count": 14,
   "metadata": {},
   "outputs": [
    {
     "name": "stdout",
     "output_type": "stream",
     "text": [
      "enter a number24\n",
      "number is not divisible by both 5 or 9\n"
     ]
    }
   ],
   "source": [
    "num = int(input(\"enter a number\"))\n",
    "if num % 9 == 0 and num % 5 == 0:\n",
    "    print(\"number is divisible by both 5 or 9\")\n",
    "elif num % 9 == 0:\n",
    "    print(\"number is divisible by 9\")\n",
    "elif num % 5 == 0:\n",
    "    print(\"number is divisible by 5\")\n",
    "else:\n",
    "    print(\"number is not divisible by both 5 or 9\")"
   ]
  },
  {
   "cell_type": "markdown",
   "metadata": {},
   "source": [
    "### Write a Python program to check whether a number is even or odd."
   ]
  },
  {
   "cell_type": "code",
   "execution_count": 16,
   "metadata": {},
   "outputs": [
    {
     "name": "stdout",
     "output_type": "stream",
     "text": [
      "enter a number4\n",
      "a is even\n"
     ]
    }
   ],
   "source": [
    "a = int(input(\"enter a number\"))\n",
    "if a % 2:\n",
    "    print(\"a is odd\")\n",
    "else:\n",
    "    print(\"a is even\")"
   ]
  },
  {
   "cell_type": "markdown",
   "metadata": {},
   "source": [
    "### Write a Python program to check whether a year is leap year or not."
   ]
  },
  {
   "cell_type": "code",
   "execution_count": 19,
   "metadata": {},
   "outputs": [
    {
     "name": "stdout",
     "output_type": "stream",
     "text": [
      "enter a year2019\n",
      "given year is not leap year\n"
     ]
    }
   ],
   "source": [
    "a = int(input(\"enter a year\"))\n",
    "if a % 4:\n",
    "    print(\"given year is not leap year\")\n",
    "else:\n",
    "    print(\"given year is leap year\")"
   ]
  },
  {
   "cell_type": "markdown",
   "metadata": {},
   "source": [
    "### Write a Python program to check whether a character is alphabet or not."
   ]
  },
  {
   "cell_type": "code",
   "execution_count": 28,
   "metadata": {},
   "outputs": [
    {
     "name": "stdout",
     "output_type": "stream",
     "text": [
      "enter a characterT\n",
      "given character is alphabet\n"
     ]
    }
   ],
   "source": [
    "a = input(\"enter a character\")\n",
    "ch = ord(a)\n",
    "if ch >= 65 and ch <= 90 or ch >= 97 and ch <= 122:\n",
    "    print(\"given character is alphabet\")\n",
    "else:\n",
    "    print(\"given character is not alphabet\")"
   ]
  },
  {
   "cell_type": "code",
   "execution_count": 71,
   "metadata": {},
   "outputs": [
    {
     "name": "stdout",
     "output_type": "stream",
     "text": [
      "enter a characterw\n",
      "a is alphabet\n"
     ]
    }
   ],
   "source": [
    "a = input(\"enter a character\")\n",
    "if a.isalpha():\n",
    "    print(\"a is alphabet\")\n",
    "else:\n",
    "    print(\"a is not alphabet\")"
   ]
  },
  {
   "cell_type": "code",
   "execution_count": 72,
   "metadata": {},
   "outputs": [
    {
     "name": "stdout",
     "output_type": "stream",
     "text": [
      "enter a characterf\n",
      "a is alphabet\n"
     ]
    }
   ],
   "source": [
    "a = input(\"enter a character\")\n",
    "if a >= 'A' and a <= 'Z' or a >= 'a' and a <= 'z':\n",
    "    print(\"a is alphabet\")\n",
    "else:\n",
    "    print(\"a is not alphabet\")"
   ]
  },
  {
   "cell_type": "markdown",
   "metadata": {},
   "source": [
    "### Write a Python program to input any alphabet and check whether it is vowel or consonant."
   ]
  },
  {
   "cell_type": "code",
   "execution_count": 48,
   "metadata": {},
   "outputs": [
    {
     "name": "stdout",
     "output_type": "stream",
     "text": [
      "enter any alphabetU\n",
      "U is vowel\n"
     ]
    }
   ],
   "source": [
    "a = input(\"enter any alphabet\")\n",
    "ch = ord(a)\n",
    "if ch >= 65 and ch <=90 or ch >= 97 and ch <= 122:\n",
    "    if a == 'a' or a == 'e' or a == 'i' or a == 'o' or a == 'u' or a == 'A' or a == 'E' or a == 'I' or a == 'O' or a == 'U':\n",
    "        print(f\"{a} is vowel\")\n",
    "    else:\n",
    "        print(f\"{a} is consonant\")\n",
    "else:\n",
    "    print(\"invalid alphabet\")"
   ]
  },
  {
   "cell_type": "markdown",
   "metadata": {},
   "source": [
    "### Write a Python program to input any character and check whether it is alphabet, digit or special character."
   ]
  },
  {
   "cell_type": "code",
   "execution_count": 58,
   "metadata": {},
   "outputs": [
    {
     "name": "stdout",
     "output_type": "stream",
     "text": [
      "input any characterR\n",
      "Character is Alphabet\n"
     ]
    }
   ],
   "source": [
    "a = input(\"input any character\")\n",
    "ch = ord(a)\n",
    "if ch >= 65 and ch <= 90 or ch >= 97 and ch <= 122:\n",
    "    print(\"Character is Alphabet\")\n",
    "elif ch >= 48 and ch <= 57:\n",
    "    print(\"character is digit\")\n",
    "else:\n",
    "    print(\"special character\")"
   ]
  },
  {
   "cell_type": "markdown",
   "metadata": {},
   "source": [
    "### Write a Python program to check whether a character is uppercase or lowercase alphabet."
   ]
  },
  {
   "cell_type": "code",
   "execution_count": 62,
   "metadata": {},
   "outputs": [
    {
     "name": "stdout",
     "output_type": "stream",
     "text": [
      "enter a alphabetE\n",
      "a is uppercase alphabet\n"
     ]
    }
   ],
   "source": [
    "a = input(\"enter a alphabet\")\n",
    "if a.isupper():\n",
    "    print(\"a is uppercase alphabet\")\n",
    "elif a.islower():\n",
    "    print(\"a is lowercase alphabet\")\n",
    "else:\n",
    "    print(\"invalid alphabet\")"
   ]
  },
  {
   "cell_type": "code",
   "execution_count": 76,
   "metadata": {},
   "outputs": [
    {
     "name": "stdout",
     "output_type": "stream",
     "text": [
      "enter a alphabetE\n",
      "uppercase alphabet\n"
     ]
    }
   ],
   "source": [
    "a = input(\"enter a alphabet\")\n",
    "if a >= 'A' and a <= 'Z':\n",
    "    print(\"uppercase alphabet\")\n",
    "elif a >= 'a' and a <= 'z':\n",
    "    print('lowercase alphabet')\n",
    "else:\n",
    "    print(\"invalid alphabet\")"
   ]
  },
  {
   "cell_type": "markdown",
   "metadata": {},
   "source": [
    "### Write a Python program to input week number and print week day."
   ]
  },
  {
   "cell_type": "code",
   "execution_count": 7,
   "metadata": {},
   "outputs": [
    {
     "name": "stdout",
     "output_type": "stream",
     "text": [
      "enter a number in between 1 to 7 : 5\n",
      "Friday\n"
     ]
    }
   ],
   "source": [
    "a = int(input(\"enter a number in between 1 to 7 : \"))\n",
    "if a >= 1 and a <= 7:\n",
    "    if a == 1:\n",
    "        print(\"Monday\")\n",
    "    elif a == 2:\n",
    "        print(\"Tuesday\")\n",
    "    elif a == 3:\n",
    "        print(\"Wednesday\")\n",
    "    elif a == 4:\n",
    "        print(\"Thursday\")\n",
    "    elif a == 5:\n",
    "        print(\"Friday\")\n",
    "    elif a == 6:\n",
    "        print(\"Saturday\")\n",
    "    else:\n",
    "        print(\"Sunday\")\n",
    "else:\n",
    "    print(\"invalid number\")"
   ]
  },
  {
   "cell_type": "code",
   "execution_count": 8,
   "metadata": {},
   "outputs": [
    {
     "name": "stdout",
     "output_type": "stream",
     "text": [
      "enter a number in between 1 to 7 : 69\n",
      "Saturday\n"
     ]
    }
   ],
   "source": [
    "a = int(input(\"enter a number in between 1 to 7 : \"))\n",
    "if a % 7 == 1:\n",
    "    print(\"Monday\")\n",
    "elif a % 7 == 2:\n",
    "    print(\"Tuesday\")\n",
    "elif a % 7 == 3:\n",
    "    print(\"Wednesday\")\n",
    "elif a % 7 == 4:\n",
    "    print(\"Thursday\")\n",
    "elif a % 7== 5:\n",
    "    print(\"Friday\")\n",
    "elif a % 7 == 6:\n",
    "    print(\"Saturday\")\n",
    "elif a % 7 == 7:\n",
    "    print(\"Sunday\")"
   ]
  },
  {
   "cell_type": "markdown",
   "metadata": {},
   "source": [
    "### Write a Python program to input month number and print number of days in that month."
   ]
  },
  {
   "cell_type": "code",
   "execution_count": 23,
   "metadata": {},
   "outputs": [
    {
     "name": "stdout",
     "output_type": "stream",
     "text": [
      "enter month number in between 1 to 12 : 10\n",
      "October has 31 days.\n"
     ]
    }
   ],
   "source": [
    "a = int(input(\"enter month number in between 1 to 12 : \"))\n",
    "if a >= 1 and a <= 12:\n",
    "    if a == 1:\n",
    "        print(\"January has 31 days.\")\n",
    "    elif a == 2:\n",
    "        print(\"February has 28 days.\")\n",
    "    elif a == 3:\n",
    "        print(\"March has 31 days.\")\n",
    "    elif a == 4:\n",
    "        print(\"April has 30 days.\")\n",
    "    elif a == 5:\n",
    "        print(\"May has 31 days.\")\n",
    "    elif a == 6:\n",
    "        print(\"June has 30 days.\")\n",
    "    elif a == 7:\n",
    "        print(\"July has 31 days.\")\n",
    "    elif a == 8:\n",
    "        print(\"August has 31 days.\")\n",
    "    elif a == 9:\n",
    "        print(\"September has 30 days.\")\n",
    "    elif a == 10:\n",
    "        print(\"October has 31 days.\")\n",
    "    elif a == 11:\n",
    "        print(\"November has 30 days.\")\n",
    "    else:\n",
    "        print(\"December has 31 days.\")\n",
    "else:\n",
    "    print(\"invalid number\")"
   ]
  },
  {
   "cell_type": "markdown",
   "metadata": {},
   "source": [
    "### Write a Python program to count total number of notes in given amount."
   ]
  },
  {
   "cell_type": "code",
   "execution_count": 28,
   "metadata": {},
   "outputs": [
    {
     "name": "stdout",
     "output_type": "stream",
     "text": [
      "enter amount4531\n",
      "enter one note value100\n",
      "number of note of 100 is 45 and remaining rupees is 31rs.\n"
     ]
    }
   ],
   "source": [
    "amt = int(input(\"enter amount\"))\n",
    "a = int(input(\"enter one note value\"))\n",
    "if a == 2000:\n",
    "    n = amt // a\n",
    "    r = amt % a\n",
    "    print(f\"number of note of {a} is {n} and remaining rupees is {r}rs.\")\n",
    "elif a == 500:\n",
    "    n = amt// a\n",
    "    r = amt%a\n",
    "    print(f\"number of note of {a} is {n} and remaining rupees is {r}rs.\")\n",
    "elif a == 200:\n",
    "    n = amt // a\n",
    "    r = amt % a\n",
    "    print(f\"number of note of {a} is {n} and remaining rupees is {r}rs.\")\n",
    "elif a == 100:\n",
    "    n = amt // a\n",
    "    r = amt % a\n",
    "    print(f\"number of note of {a} is {n} and remaining rupees is {r}rs.\")\n",
    "elif a == 50:\n",
    "    n = amt // a\n",
    "    r = amt % a\n",
    "    print(f\"number of note of {a} is {n} and remaining rupees is {r}rs.\")\n",
    "elif a == 20:\n",
    "    n = amt // a\n",
    "    r = amt % a\n",
    "    print(f\"number of note of {a} is {n} and remaining rupees is {r}rs.\")\n",
    "elif a == 10:\n",
    "    n = amt // a\n",
    "    r = amt % a\n",
    "    print(f\"number of note of {a} is {n} and remaining rupees is {r}rs.\")\n",
    "elif a == 5:\n",
    "    n = amt // a\n",
    "    r = amt % a\n",
    "    print(f\"number of note of {a} is {n} and remaining rupees is {r}rs.\")\n",
    "elif a == 2:\n",
    "    n = amt // a\n",
    "    r = amt % a\n",
    "    print(f\"number of note of {a} is {n} and remaining rupees is {r}rs.\")\n",
    "elif a == 1:\n",
    "    n = amt // a\n",
    "    r = amt % a\n",
    "    print(f\"number of note of {a} is {n} and remaining rupees is {r}rs.\")\n",
    "else:\n",
    "    print(\"invalid value of note\")"
   ]
  },
  {
   "cell_type": "code",
   "execution_count": 1,
   "metadata": {},
   "outputs": [
    {
     "name": "stdout",
     "output_type": "stream",
     "text": [
      "enter amount65537\n",
      "note of 2000 : 32\n",
      "note of 500 : 3\n",
      "note of 20 : 1\n",
      "note of 10 : 1\n",
      "note of 5 : 1\n",
      "note of 2 : 1\n"
     ]
    }
   ],
   "source": [
    "amt = int(input(\"enter amount\"))\n",
    "note_2000 = amt // 2000\n",
    "amt = amt % 2000\n",
    "note_500 = amt // 500\n",
    "amt = amt % 500\n",
    "note_200 = amt // 200\n",
    "amt = amt % 200\n",
    "note_100 = amt // 100\n",
    "amt = amt % 100\n",
    "note_50 = amt // 50\n",
    "amt = amt % 50\n",
    "note_20 = amt // 20\n",
    "amt = amt % 20\n",
    "note_10 = amt // 10\n",
    "amt = amt % 10\n",
    "note_5 = amt // 5\n",
    "amt = amt % 5\n",
    "note_2 = amt // 2\n",
    "amt = amt % 2\n",
    "note_1 = amt // 1\n",
    "if note_2000 > 0 :\n",
    "    print(f\"note of 2000 : {note_2000}\")\n",
    "if note_500 > 0 :\n",
    "    print(f\"note of 500 : {note_500}\")\n",
    "if note_200 > 0 :\n",
    "    print(f\"note of 200 : {note_200}\")\n",
    "if note_100 > 0 :\n",
    "    print(f\"note of 100 : {note_100}\")\n",
    "if note_50 > 0 :\n",
    "    print(f\"note of 50 : {note_50}\")\n",
    "if note_20 > 0 :\n",
    "    print(f\"note of 20 : {note_20}\")\n",
    "if note_10 > 0 :\n",
    "    print(f\"note of 10 : {note_10}\")\n",
    "if note_5 > 0 :\n",
    "    print(f\"note of 5 : {note_5}\")\n",
    "if note_2 > 0 :\n",
    "    print(f\"note of 2 : {note_2}\")\n",
    "if note_1 > 0 :\n",
    "    print(f\"note of 1 : {note_1}\")"
   ]
  },
  {
   "cell_type": "markdown",
   "metadata": {},
   "source": [
    "### Write a Python program to input angles of a triangle and check whether triangle is valid or not."
   ]
  },
  {
   "cell_type": "code",
   "execution_count": 34,
   "metadata": {},
   "outputs": [
    {
     "name": "stdout",
     "output_type": "stream",
     "text": [
      "enter the angles of triangle seprate by comma : 170,5,5\n",
      "valid triangle\n"
     ]
    }
   ],
   "source": [
    "a,b,c = map(int,input(\"enter the angles of triangle seprate by comma : \").split(\",\"))\n",
    "z = a+b+c\n",
    "if z == 180:\n",
    "    print(\"valid triangle\")\n",
    "else:\n",
    "    print(\"invalid triangles\")"
   ]
  },
  {
   "cell_type": "markdown",
   "metadata": {},
   "source": [
    "### Write a Python program to input all sides of a triangle and check whether triangle is valid or not."
   ]
  },
  {
   "cell_type": "code",
   "execution_count": 37,
   "metadata": {},
   "outputs": [
    {
     "name": "stdout",
     "output_type": "stream",
     "text": [
      "enter sides of triangle seperate by comma33,44,22\n",
      "valid triangle\n"
     ]
    }
   ],
   "source": [
    "a,b,c = map(int,input(\"enter sides of triangle seperate by comma\").split(\",\"))\n",
    "if a+b > c:\n",
    "    print(\"valid triangle\")\n",
    "elif b+c > a:\n",
    "    print(\"valid triangle\")\n",
    "elif a+c >b:\n",
    "    print(\"valid triangle\")\n",
    "else:\n",
    "    print(\"invalid triangle\")"
   ]
  },
  {
   "cell_type": "markdown",
   "metadata": {},
   "source": [
    "### Write a Python program to check whether the triangle is equilateral, isosceles or scalene triangle."
   ]
  },
  {
   "cell_type": "code",
   "execution_count": 41,
   "metadata": {},
   "outputs": [
    {
     "name": "stdout",
     "output_type": "stream",
     "text": [
      "enter sides of triangle1,2,3\n",
      "scalene triangle\n"
     ]
    }
   ],
   "source": [
    "a,b,c = map(int,input(\"enter sides of triangle\").split(\",\"))\n",
    "if a == b == c:\n",
    "    print(\"equilateral triangle\")\n",
    "elif a == b or b == c or a == c:\n",
    "    print(\"isosceles triangle\")\n",
    "else:\n",
    "    print(\"scalene triangle\")"
   ]
  },
  {
   "cell_type": "markdown",
   "metadata": {},
   "source": [
    "### Write a Python program to find all roots of a quadratic equation."
   ]
  },
  {
   "cell_type": "code",
   "execution_count": 1,
   "metadata": {},
   "outputs": [],
   "source": [
    "from math import sqrt"
   ]
  },
  {
   "cell_type": "code",
   "execution_count": 7,
   "metadata": {},
   "outputs": [
    {
     "name": "stdout",
     "output_type": "stream",
     "text": [
      "please give value of a,b,c in the format of a*x**2+b*x+c=0 : 6,11,-35\n",
      "roots are : \n",
      "x = 1.6666666666666667 and -3.5\n"
     ]
    }
   ],
   "source": [
    "a,b,c = map(int,input(\"please give value of a,b,c in the format of a*x**2+b*x+c=0 : \").split(\",\"))\n",
    "if ((b**2-4*a*c)/(2*a)) > 0:\n",
    "    print(\"roots are : \")\n",
    "    x = (-b+sqrt(b**2-4*a*c))/(2*a)\n",
    "    y = (-b-sqrt(b**2-4*a*c))/(2*a)\n",
    "    print(f\"x = {x} and {y}\")\n",
    "else:\n",
    "    print(\"invalid quadratic equation\")"
   ]
  },
  {
   "cell_type": "markdown",
   "metadata": {},
   "source": [
    "### Write a Python program to calculate profit or loss."
   ]
  },
  {
   "cell_type": "code",
   "execution_count": 10,
   "metadata": {},
   "outputs": [
    {
     "name": "stdout",
     "output_type": "stream",
     "text": [
      "enter actual amount of product --->2000\n",
      "enter selling amount of product --->2220\n",
      "your profit is 220.0\n"
     ]
    }
   ],
   "source": [
    "amt = float(input(\"enter actual amount of product --->\"))\n",
    "sell_price = float(input(\"enter selling amount of product --->\"))\n",
    "if amt == sell_price :\n",
    "    print(\"No Profit No Loss\")\n",
    "elif amt > sell_price:\n",
    "    print(f\" your loss is {amt-sell_price}\")\n",
    "else:\n",
    "    print(f\"your profit is {sell_price-amt}\")"
   ]
  },
  {
   "cell_type": "markdown",
   "metadata": {},
   "source": [
    "### Write a Python program to input marks of five subjects Physics, Chemistry, Biology, Mathematics and Computer. Calculate percentage and grade according to following: \n",
    "###### Percentage >= 90% : Grade A \n",
    "###### Percentage >= 80% : Grade B \n",
    "###### Percentage >= 70% : Grade C \n",
    "###### Percentage >= 60% : Grade D \n",
    "###### Percentage >= 40% : Grade E \n",
    "###### Percentage < 40% : Grade F"
   ]
  },
  {
   "cell_type": "code",
   "execution_count": 13,
   "metadata": {},
   "outputs": [
    {
     "name": "stdout",
     "output_type": "stream",
     "text": [
      "enter marks of p,c,b,m,cp76,76,83,100,89\n",
      "enter maximum marks of p,c,b,m,cp100,100,100,100,100\n",
      "percentage is 84.8 and grade is B\n"
     ]
    }
   ],
   "source": [
    "p,c,b,m,cp = map(int,input(\"enter marks of p,c,b,m,cp\").split(\",\"))\n",
    "mp,mc,mb,mm,mcp = map(int,input(\"enter maximum marks of p,c,b,m,cp\").split(\",\"))\n",
    "tm = mp+mc+mb+mm+mcp\n",
    "t = p+c+b+m+cp\n",
    "per = t/tm*100\n",
    "if per >= 90 :\n",
    "    print(f\"percentage is {per} and grade is A\")\n",
    "elif per >= 80 :\n",
    "    print(f\"percentage is {per} and grade is B\")\n",
    "elif per >= 70 :\n",
    "    print(f\"percentage is {per} and grade is C\")\n",
    "elif per >= 60 :\n",
    "    print(f\"percentage is {per} and grade is D\")\n",
    "elif per >= 40 :\n",
    "    print(f\"percentage is {per} and grade is E\")\n",
    "else:\n",
    "    print(f\"percentage is {per} and grade is F\")"
   ]
  },
  {
   "cell_type": "markdown",
   "metadata": {},
   "source": [
    "### Write a Python program to input basic salary of an employee and calculate its Gross salary according to following: \n",
    "\n",
    "###### Basic Salary <= 10000 : HRA = 20%, DA = 80% \n",
    "###### Basic Salary <= 20000 : HRA = 25%, DA = 90% \n",
    "###### Basic Salary > 20000 : HRA = 30%, DA = 95%\n"
   ]
  },
  {
   "cell_type": "code",
   "execution_count": 14,
   "metadata": {},
   "outputs": [
    {
     "name": "stdout",
     "output_type": "stream",
     "text": [
      "enter your basic salary15000\n",
      "Your Gross Salary is 32250.0/-\n"
     ]
    }
   ],
   "source": [
    "bs = float(input(\"enter your basic salary\"))\n",
    "if bs <= 10000 :\n",
    "    hra = bs * 20 / 100\n",
    "    da = bs * 80 / 100\n",
    "    gs = bs + hra + da\n",
    "elif bs <= 20000 :\n",
    "    hra = bs * 25 / 100\n",
    "    da = bs * 90 / 100\n",
    "    gs = bs + hra + da\n",
    "else:\n",
    "    hra = bs * 30 / 100\n",
    "    da = bs * 95 / 100\n",
    "    gs = bs + hra + da\n",
    "print(f\"Your Gross Salary is {gs}/-\")"
   ]
  },
  {
   "cell_type": "markdown",
   "metadata": {},
   "source": [
    "### Write a Python Program to input electricity unit charges and calculate total electricity bill according to the given condition: \n",
    "\n",
    "###### For first 50 units Rs. 0.50/unit\n",
    "###### For next 100 units Rs. 0.75/unit\n",
    "###### For next 100 units Rs. 1.20/unit\n",
    "###### For unit above 250 Rs. 1.50/unit\n",
    "###### An additional surcharge of 20% is added to the bill"
   ]
  },
  {
   "cell_type": "code",
   "execution_count": 16,
   "metadata": {},
   "outputs": [
    {
     "name": "stdout",
     "output_type": "stream",
     "text": [
      "Enter number of unit you use : 275\n",
      "Your total bill is 309.0\n"
     ]
    }
   ],
   "source": [
    "unit = float(input(\"Enter number of unit you use : \"))\n",
    "if unit <= 50 :\n",
    "    bill = unit*0.50\n",
    "elif unit <= 150 :\n",
    "    bill = 25 + (unit-50)*0.75\n",
    "elif unit <= 250 :\n",
    "    bill = 25 + 75 + (unit-150)*1.20\n",
    "else :\n",
    "    bill = 25 + 75 + 120 + (unit-250)*1.50\n",
    "surcharge = bill * 20 /100\n",
    "total_bill = bill + surcharge\n",
    "print(f\"Your total bill is {total_bill}\")"
   ]
  },
  {
   "cell_type": "code",
   "execution_count": null,
   "metadata": {},
   "outputs": [],
   "source": []
  }
 ],
 "metadata": {
  "kernelspec": {
   "display_name": "Python 3",
   "language": "python",
   "name": "python3"
  },
  "language_info": {
   "codemirror_mode": {
    "name": "ipython",
    "version": 3
   },
   "file_extension": ".py",
   "mimetype": "text/x-python",
   "name": "python",
   "nbconvert_exporter": "python",
   "pygments_lexer": "ipython3",
   "version": "3.6.5"
  }
 },
 "nbformat": 4,
 "nbformat_minor": 2
}
